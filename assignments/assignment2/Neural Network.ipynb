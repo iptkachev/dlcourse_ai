{
 "cells": [
  {
   "cell_type": "markdown",
   "metadata": {},
   "source": [
    "# Задание 2.1 - Нейронные сети\n",
    "\n",
    "В этом задании вы реализуете и натренируете настоящую нейроную сеть своими руками!\n",
    "\n",
    "В некотором смысле это будет расширением прошлого задания - нам нужно просто составить несколько линейных классификаторов вместе!\n",
    "\n",
    "<img src=\"https://i.redd.it/n9fgba8b0qr01.png\" alt=\"Stack_more_layers\" width=\"400px\"/>"
   ]
  },
  {
   "cell_type": "code",
   "execution_count": 1,
   "metadata": {},
   "outputs": [],
   "source": [
    "import numpy as np\n",
    "import matplotlib.pyplot as plt\n",
    "\n",
    "%matplotlib inline\n",
    "\n",
    "%load_ext autoreload\n",
    "%autoreload 2"
   ]
  },
  {
   "cell_type": "code",
   "execution_count": 80,
   "metadata": {},
   "outputs": [],
   "source": [
    "from dataset import load_svhn, random_split_train_val\n",
    "from gradient_check import check_layer_gradient, check_layer_param_gradient, check_model_gradient\n",
    "from layers import FullyConnectedLayer, ReLULayer, softmax_with_cross_entropy, l2_regularization\n",
    "from model import TwoLayerNet\n",
    "from trainer import Trainer, Dataset\n",
    "from optim import SGD, MomentumSGD\n",
    "from metrics import multiclass_accuracy\n",
    "\n",
    "import sys\n",
    "sys.path.append('..')\n",
    "from assignment1.linear_classifer import softmax"
   ]
  },
  {
   "cell_type": "markdown",
   "metadata": {},
   "source": [
    "# Загружаем данные\n",
    "\n",
    "И разделяем их на training и validation."
   ]
  },
  {
   "cell_type": "code",
   "execution_count": 81,
   "metadata": {},
   "outputs": [],
   "source": [
    "def prepare_for_neural_network(train_X, test_X):\n",
    "    train_flat = train_X.reshape(train_X.shape[0], -1).astype(np.float) / 255.0\n",
    "    test_flat = test_X.reshape(test_X.shape[0], -1).astype(np.float) / 255.0\n",
    "    \n",
    "    # Subtract mean\n",
    "    mean_image = np.mean(train_flat, axis = 0)\n",
    "    train_flat -= mean_image\n",
    "    test_flat -= mean_image\n",
    "    \n",
    "    return train_flat, test_flat\n",
    "    \n",
    "train_X, train_y, test_X, test_y = load_svhn(\"../assignment1/data\", max_train=10000, max_test=1000)    \n",
    "train_X, test_X = prepare_for_neural_network(train_X, test_X)\n",
    "# Split train into train and val\n",
    "train_X, train_y, val_X, val_y = random_split_train_val(train_X, train_y, num_val = 1000)"
   ]
  },
  {
   "cell_type": "markdown",
   "metadata": {},
   "source": [
    "# Как всегда, начинаем с кирпичиков\n",
    "\n",
    "Мы будем реализовывать необходимые нам слои по очереди. Каждый слой должен реализовать:\n",
    "- прямой проход (forward pass), который генерирует выход слоя по входу и запоминает необходимые данные\n",
    "- обратный проход (backward pass), который получает градиент по выходу слоя и вычисляет градиент по входу и по параметрам\n",
    "\n",
    "Начнем с ReLU, у которого параметров нет."
   ]
  },
  {
   "cell_type": "code",
   "execution_count": 210,
   "metadata": {},
   "outputs": [],
   "source": [
    "class ReLULayer:\n",
    "    def __init__(self):\n",
    "        self.X = None\n",
    "\n",
    "    def forward(self, X):\n",
    "        # TODO: Implement forward pass\n",
    "        # Hint: you'll need to save some information about X\n",
    "        # to use it later in the backward pass\n",
    "        self.X = np.copy(X)\n",
    "        output = self._reLU(self.X)\n",
    "        \n",
    "        return output\n",
    "    \n",
    "    def _reLU(self, x):\n",
    "        x[x < 0] = 0\n",
    "        return x\n",
    "    \n",
    "    def backward(self, d_out):\n",
    "        \"\"\"\n",
    "        Backward pass\n",
    "\n",
    "        Arguments:\n",
    "        d_out, np array (batch_size, num_features) - gradient\n",
    "           of loss function with respect to output\n",
    "\n",
    "        Returns:\n",
    "        d_result: np array (batch_size, num_features) - gradient\n",
    "          with respect to input\n",
    "        \"\"\"\n",
    "        # TODO: Implement backward pass\n",
    "        # Your final implementation shouldn't have any loops\n",
    "\n",
    "        d_result = d_out * self._grad_reLU(self.X)\n",
    "\n",
    "        return d_result\n",
    "    \n",
    "    def _grad_reLU(self, x):\n",
    "        x[x > 0] = 1\n",
    "        x[x < 0] = 0\n",
    "        return x\n",
    "\n",
    "    def params(self):\n",
    "        # ReLU Doesn't have any parameters\n",
    "        return {}"
   ]
  },
  {
   "cell_type": "code",
   "execution_count": 211,
   "metadata": {
    "scrolled": false
   },
   "outputs": [
    {
     "name": "stdout",
     "output_type": "stream",
     "text": [
      "Gradient check passed!\n"
     ]
    }
   ],
   "source": [
    "# TODO: Implement ReLULayer layer in layers.py\n",
    "# Note: you'll need to copy implementation of the gradient_check function from the previous assignment\n",
    "\n",
    "X = np.array([[1,-2, 3],\n",
    "              [-1, 2, 0.1]\n",
    "              ])\n",
    "\n",
    "assert check_layer_gradient(ReLULayer(), X)"
   ]
  },
  {
   "cell_type": "markdown",
   "metadata": {},
   "source": [
    "А теперь реализуем полносвязный слой (fully connected layer), у которого будет два массива параметров: W (weights) и B (bias).\n",
    "\n",
    "Все параметры наши слои будут использовать для параметров специальный класс `Param`, в котором будут храниться значения параметров и градиенты этих параметров, вычисляемые во время обратного прохода.\n",
    "\n",
    "Это даст возможность аккумулировать (суммировать) градиенты из разных частей функции потерь, например, из cross-entropy loss и regularization loss."
   ]
  },
  {
   "cell_type": "code",
   "execution_count": 212,
   "metadata": {},
   "outputs": [],
   "source": [
    "class Param:\n",
    "    \"\"\"\n",
    "    Trainable parameter of the model\n",
    "    Captures both parameter value and the gradient\n",
    "    \"\"\"\n",
    "\n",
    "    def __init__(self, value):\n",
    "        self.value = value\n",
    "        self.grad = np.zeros_like(value)\n",
    "        \n",
    "\n",
    "class FullyConnectedLayer:\n",
    "    def __init__(self, n_input, n_output):\n",
    "        self.W = Param(0.001 * np.random.randn(n_input, n_output))\n",
    "        self.B = Param(0.001 * np.random.randn(1, n_output))\n",
    "        self.X = None\n",
    "\n",
    "    def forward(self, X):\n",
    "        # TODO: Implement forward pass\n",
    "        # Your final implementation shouldn't have any loops\n",
    "        self.X = X\n",
    "        return self.X @ self.W.value + self.B.value\n",
    "\n",
    "    def backward(self, d_out):\n",
    "        \"\"\"\n",
    "        Backward pass\n",
    "        Computes gradient with respect to input and\n",
    "        accumulates gradients within self.W and self.B\n",
    "\n",
    "        Arguments:\n",
    "        d_out, np array (batch_size, n_output) - gradient\n",
    "           of loss function with respect to output\n",
    "\n",
    "        Returns:\n",
    "        d_result: np array (batch_size, n_input) - gradient\n",
    "          with respect to input\n",
    "        \"\"\"\n",
    "        # TODO: Implement backward pass\n",
    "        # Compute both gradient with respect to input\n",
    "        # and gradients with respect to W and B\n",
    "        # Add gradients of W and B to their `grad` attribute\n",
    "\n",
    "        # It should be pretty similar to linear classifier from\n",
    "        # the previous assignment\n",
    "        d_result = d_out @ self.W.value.T\n",
    "        self.W.grad = self.X.T @ d_out\n",
    "        self.B.grad = np.ones((self.B.value.shape[0], self.X.shape[0])) @ d_out\n",
    "        \n",
    "        return d_result\n",
    "\n",
    "    def params(self):\n",
    "        return {'W': self.W, 'B': self.B}"
   ]
  },
  {
   "cell_type": "code",
   "execution_count": 213,
   "metadata": {},
   "outputs": [
    {
     "name": "stdout",
     "output_type": "stream",
     "text": [
      "Gradient check passed!\n",
      "Gradient check passed!\n",
      "Gradient check passed!\n"
     ]
    }
   ],
   "source": [
    "# TODO: Implement FullyConnected layer forward and backward methods\n",
    "assert check_layer_gradient(FullyConnectedLayer(3, 4), X)\n",
    "# TODO: Implement storing gradients for W and B\n",
    "assert check_layer_param_gradient(FullyConnectedLayer(3, 4), X, 'W')\n",
    "assert check_layer_param_gradient(FullyConnectedLayer(3, 4), X, 'B')"
   ]
  },
  {
   "cell_type": "markdown",
   "metadata": {},
   "source": [
    "## Создаем нейронную сеть\n",
    "\n",
    "Теперь мы реализуем простейшую нейронную сеть с двумя полносвязным слоями и нелинейностью ReLU. Реализуйте функцию `compute_loss_and_gradients`, она должна запустить прямой и обратный проход через оба слоя для вычисления градиентов.\n",
    "\n",
    "Не забудьте реализовать очистку градиентов в начале функции."
   ]
  },
  {
   "cell_type": "code",
   "execution_count": 214,
   "metadata": {},
   "outputs": [],
   "source": [
    "class TwoLayerNet:\n",
    "    \"\"\" Neural network with two fully connected layers \"\"\"\n",
    "\n",
    "    def __init__(self, n_input, n_output, hidden_layer_size, reg):\n",
    "        \"\"\"\n",
    "        Initializes the neural network\n",
    "\n",
    "        Arguments:\n",
    "        n_input, int - dimension of the model input\n",
    "        n_output, int - number of classes to predict\n",
    "        hidden_layer_size, int - number of neurons in the hidden layer\n",
    "        reg, float - L2 regularization strength\n",
    "        \"\"\"\n",
    "        self.reg = reg\n",
    "        # TODO Create necessary layers\n",
    "        self.fc1 = FullyConnectedLayer(n_input, hidden_layer_size)\n",
    "        self.relu1 = ReLULayer()\n",
    "        self.fc2 = FullyConnectedLayer(hidden_layer_size, n_output)\n",
    "\n",
    "    def compute_loss_and_gradients(self, X, y):\n",
    "        \"\"\"\n",
    "        Computes total loss and updates parameter gradients\n",
    "        on a batch of training examples\n",
    "\n",
    "        Arguments:\n",
    "        X, np array (batch_size, input_features) - input data\n",
    "        y, np array of int (batch_size) - classes\n",
    "        \"\"\"\n",
    "        # Before running forward and backward pass through the model,\n",
    "        # clear parameter gradients aggregated from the previous pass\n",
    "        # TODO Set parameter gradient to zeros\n",
    "        # Hint: using self.params() might be useful!\n",
    "        self._zero_grad()\n",
    "        \n",
    "        # TODO Compute loss and fill param gradients\n",
    "        # by running forward and backward passes through the model\n",
    "        predictions = self._forward(X)\n",
    "        loss, dprediction = softmax_with_cross_entropy(predictions, y)\n",
    "        self._backward(dprediction)\n",
    "        \n",
    "        # After that, implement l2 regularization on all params\n",
    "        # Hint: self.params() is useful again!\n",
    "        loss_l2 = self._backward_l2_regularization()\n",
    "        loss += loss_l2\n",
    "        \n",
    "        return loss\n",
    "\n",
    "    def _zero_grad(self):\n",
    "        for param in self.params().values():\n",
    "            param.grad = np.zeros_like(param.value)\n",
    "                \n",
    "    def _forward(self, X):\n",
    "        output = self.fc1.forward(X)\n",
    "        output = self.relu1.forward(output)\n",
    "        output = self.fc2.forward(output)\n",
    "        return output\n",
    "    \n",
    "    def _backward(self, dprediction):\n",
    "        grad = self.fc2.backward(dprediction)\n",
    "        grad = self.relu1.backward(grad)\n",
    "        self.fc1.backward(grad)\n",
    "        \n",
    "    def _backward_l2_regularization(self):\n",
    "        loss_l2 = 0.\n",
    "        \n",
    "        for param in self.params().values():\n",
    "            param_loss_l2, param_grad_l2 = l2_regularization(param.value, self.reg)\n",
    "            param.grad += param_grad_l2\n",
    "            loss_l2 += param_loss_l2\n",
    "                \n",
    "        return loss_l2\n",
    "    \n",
    "    def predict(self, X):\n",
    "        \"\"\"\n",
    "        Produces classifier predictions on the set\n",
    "\n",
    "        Arguments:\n",
    "          X, np array (test_samples, num_features)\n",
    "\n",
    "        Returns:\n",
    "          y_pred, np.array of int (test_samples)\n",
    "        \"\"\"\n",
    "        # TODO: Implement predict\n",
    "        # Hint: some of the code of the compute_loss_and_gradients\n",
    "        # can be reused\n",
    "        pred = np.zeros(X.shape[0], np.int)\n",
    "\n",
    "        predictions = self._forward(X)\n",
    "        y_pred = np.argmax(softmax(predictions), axis=1)\n",
    "\n",
    "        return y_pred\n",
    "\n",
    "    def params(self):\n",
    "        result = {}\n",
    "\n",
    "        # TODO Implement aggregating all of the params\n",
    "        for k, v in self.fc2.params().items():\n",
    "            result[\"\".join([\"fc2_\", k])] = v\n",
    "        \n",
    "        for k, v in self.fc1.params().items():\n",
    "            result[\"\".join([\"fc1_\", k])] = v\n",
    "            \n",
    "\n",
    "        \n",
    "        return result"
   ]
  },
  {
   "cell_type": "code",
   "execution_count": 215,
   "metadata": {},
   "outputs": [
    {
     "name": "stdout",
     "output_type": "stream",
     "text": [
      "Checking gradient for fc2_W\n",
      "Gradient check passed!\n",
      "Checking gradient for fc2_B\n",
      "Gradient check passed!\n",
      "Checking gradient for fc1_W\n",
      "Gradient check passed!\n",
      "Checking gradient for fc1_B\n",
      "Gradient check passed!\n"
     ]
    },
    {
     "data": {
      "text/plain": [
       "True"
      ]
     },
     "execution_count": 215,
     "metadata": {},
     "output_type": "execute_result"
    }
   ],
   "source": [
    "# TODO: In model.py, implement compute_loss_and_gradients function\n",
    "model = TwoLayerNet(n_input = train_X.shape[1], n_output = 10, hidden_layer_size = 3, reg = 0)\n",
    "loss = model.compute_loss_and_gradients(train_X[:2], train_y[:2])\n",
    "\n",
    "# TODO Now implement backward pass and aggregate all of the params\n",
    "check_model_gradient(model, train_X[:2], train_y[:2])"
   ]
  },
  {
   "cell_type": "markdown",
   "metadata": {},
   "source": [
    "Теперь добавьте к модели регуляризацию - она должна прибавляться к loss и делать свой вклад в градиенты."
   ]
  },
  {
   "cell_type": "code",
   "execution_count": 216,
   "metadata": {},
   "outputs": [
    {
     "name": "stdout",
     "output_type": "stream",
     "text": [
      "Checking gradient for fc2_W\n",
      "Gradient check passed!\n",
      "Checking gradient for fc2_B\n",
      "Gradient check passed!\n",
      "Checking gradient for fc1_W\n",
      "Gradient check passed!\n",
      "Checking gradient for fc1_B\n",
      "Gradient check passed!\n"
     ]
    },
    {
     "data": {
      "text/plain": [
       "True"
      ]
     },
     "execution_count": 216,
     "metadata": {},
     "output_type": "execute_result"
    }
   ],
   "source": [
    "# TODO Now implement l2 regularization in the forward and backward pass\n",
    "model_with_reg = TwoLayerNet(n_input = train_X.shape[1], n_output = 10, hidden_layer_size = 3, reg = 1e1)\n",
    "loss_with_reg = model_with_reg.compute_loss_and_gradients(train_X[:2], train_y[:2])\n",
    "assert loss_with_reg > loss and not np.isclose(loss_with_reg, loss), \\\n",
    "    \"Loss with regularization (%2.4f) should be higher than without it (%2.4f)!\" % (loss, loss_with_reg)\n",
    "\n",
    "check_model_gradient(model_with_reg, train_X[:2], train_y[:2])"
   ]
  },
  {
   "cell_type": "markdown",
   "metadata": {},
   "source": [
    "Также реализуем функцию предсказания (вычисления значения) модели на новых данных.\n",
    "\n",
    "Какое значение точности мы ожидаем увидеть до начала тренировки?"
   ]
  },
  {
   "cell_type": "code",
   "execution_count": 217,
   "metadata": {},
   "outputs": [
    {
     "data": {
      "text/plain": [
       "0.1"
      ]
     },
     "execution_count": 217,
     "metadata": {},
     "output_type": "execute_result"
    }
   ],
   "source": [
    "# Finally, implement predict function!\n",
    "\n",
    "# TODO: Implement predict function\n",
    "# What would be the value we expect?\n",
    "multiclass_accuracy(model_with_reg.predict(train_X[:30]), train_y[:30]) "
   ]
  },
  {
   "cell_type": "markdown",
   "metadata": {},
   "source": [
    "# Допишем код для процесса тренировки\n",
    "\n",
    "Если все реализовано корректно, значение функции ошибки должно уменьшаться с каждой эпохой, пусть и медленно. Не беспокойтесь пока про validation accuracy."
   ]
  },
  {
   "cell_type": "code",
   "execution_count": 218,
   "metadata": {},
   "outputs": [],
   "source": [
    "from copy import deepcopy\n",
    "\n",
    "import numpy as np\n",
    "from metrics import multiclass_accuracy\n",
    "\n",
    "\n",
    "class Dataset:\n",
    "    \"\"\"\n",
    "    Utility class to hold training and validation data\n",
    "    \"\"\"\n",
    "\n",
    "    def __init__(self, train_X, train_y, val_X, val_y):\n",
    "        self.train_X = train_X\n",
    "        self.train_y = train_y\n",
    "        self.val_X = val_X\n",
    "        self.val_y = val_y\n",
    "\n",
    "\n",
    "class Trainer:\n",
    "    \"\"\"\n",
    "    Trainer of the neural network models\n",
    "    Perform mini-batch SGD with the specified data, model,\n",
    "    training parameters and optimization rule\n",
    "    \"\"\"\n",
    "\n",
    "    def __init__(self, model, dataset, optim,\n",
    "                 num_epochs=20,\n",
    "                 batch_size=20,\n",
    "                 learning_rate=1e-2,\n",
    "                 learning_rate_decay=1.0):\n",
    "        \"\"\"\n",
    "        Initializes the trainer\n",
    "\n",
    "        Arguments:\n",
    "        model - neural network model\n",
    "        dataset, instance of Dataset class - data to train on\n",
    "        optim - optimization method (see optim.py)\n",
    "        num_epochs, int - number of epochs to train\n",
    "        batch_size, int - batch size\n",
    "        learning_rate, float - initial learning rate\n",
    "        learning_rate_decal, float - ratio for decaying learning rate\n",
    "           every epoch\n",
    "        \"\"\"\n",
    "        self.dataset = dataset\n",
    "        self.model = model\n",
    "        self.optim = optim\n",
    "        self.batch_size = batch_size\n",
    "        self.learning_rate = learning_rate\n",
    "        self.num_epochs = num_epochs\n",
    "        self.learning_rate_decay = learning_rate_decay\n",
    "\n",
    "        self.optimizers = None\n",
    "\n",
    "    def setup_optimizers(self):\n",
    "        params = self.model.params()\n",
    "        self.optimizers = {}\n",
    "        for param_name, param in params.items():\n",
    "            self.optimizers[param_name] = deepcopy(self.optim)\n",
    "\n",
    "    def compute_accuracy(self, X, y):\n",
    "        \"\"\"\n",
    "        Computes accuracy on provided data using mini-batches\n",
    "        \"\"\"\n",
    "        indices = np.arange(X.shape[0])\n",
    "        sections = np.arange(self.batch_size, X.shape[0], self.batch_size)\n",
    "        batches_indices = np.array_split(indices, sections)\n",
    "\n",
    "        pred = np.zeros_like(y)\n",
    "\n",
    "        for batch_indices in batches_indices:\n",
    "            batch_X = X[batch_indices]\n",
    "            pred_batch = self.model.predict(batch_X)\n",
    "            pred[batch_indices] = pred_batch\n",
    "\n",
    "        return multiclass_accuracy(pred, y)\n",
    "\n",
    "    def fit(self):\n",
    "        \"\"\"\n",
    "        Trains a model\n",
    "        \"\"\"\n",
    "        if self.optimizers is None:\n",
    "            self.setup_optimizers()\n",
    "\n",
    "        num_train = self.dataset.train_X.shape[0]\n",
    "\n",
    "        loss_history = []\n",
    "        train_acc_history = []\n",
    "        val_acc_history = []\n",
    "        \n",
    "        for epoch in range(self.num_epochs):\n",
    "            shuffled_indices = np.arange(num_train)\n",
    "            np.random.shuffle(shuffled_indices)\n",
    "            sections = np.arange(self.batch_size, num_train, self.batch_size)\n",
    "            batches_indices = np.array_split(shuffled_indices, sections)\n",
    "\n",
    "            batch_losses = []\n",
    "\n",
    "            for batch_indices in batches_indices:\n",
    "                # TODO Generate batches based on batch_indices and\n",
    "                # use model to generate loss and gradients for all\n",
    "                # the params\n",
    "                train_X_batch = self.dataset.train_X[batch_indices]\n",
    "                train_y_batch = self.dataset.train_y[batch_indices]\n",
    "                loss = self.model.compute_loss_and_gradients(train_X_batch, train_y_batch)\n",
    "\n",
    "                for param_name, param in self.model.params().items():\n",
    "                    optimizer = self.optimizers[param_name]\n",
    "                    param.value = optimizer.update(param.value, param.grad, self.learning_rate)\n",
    "\n",
    "                batch_losses.append(loss)\n",
    "\n",
    "            if np.not_equal(self.learning_rate_decay, 1.0):\n",
    "                # TODO: Implement learning rate decay\n",
    "                self.learning_rate *= self.learning_rate_decay\n",
    "\n",
    "            ave_loss = np.mean(batch_losses)\n",
    "\n",
    "            train_accuracy = self.compute_accuracy(self.dataset.train_X,\n",
    "                                                   self.dataset.train_y)\n",
    "\n",
    "            val_accuracy = self.compute_accuracy(self.dataset.val_X,\n",
    "                                                 self.dataset.val_y)\n",
    "\n",
    "            print(\"Loss: %f, Train accuracy: %f, val accuracy: %f\" %\n",
    "                  (batch_losses[-1], train_accuracy, val_accuracy))\n",
    "\n",
    "            loss_history.append(ave_loss)\n",
    "            train_acc_history.append(train_accuracy)\n",
    "            val_acc_history.append(val_accuracy)\n",
    "\n",
    "        return loss_history, train_acc_history, val_acc_history\n"
   ]
  },
  {
   "cell_type": "code",
   "execution_count": 235,
   "metadata": {},
   "outputs": [
    {
     "name": "stdout",
     "output_type": "stream",
     "text": [
      "Loss: 38.788797, Train accuracy: 0.291222, val accuracy: 0.296000\n",
      "Loss: 34.581970, Train accuracy: 0.509333, val accuracy: 0.521000\n",
      "Loss: 38.183085, Train accuracy: 0.524556, val accuracy: 0.519000\n",
      "Loss: 39.485359, Train accuracy: 0.483333, val accuracy: 0.490000\n",
      "Loss: 40.103090, Train accuracy: 0.536889, val accuracy: 0.557000\n",
      "Loss: 35.628242, Train accuracy: 0.569889, val accuracy: 0.569000\n",
      "Loss: 36.098885, Train accuracy: 0.596333, val accuracy: 0.588000\n",
      "Loss: 43.473027, Train accuracy: 0.512111, val accuracy: 0.505000\n",
      "Loss: 37.037030, Train accuracy: 0.560556, val accuracy: 0.557000\n",
      "Loss: 29.349726, Train accuracy: 0.594222, val accuracy: 0.589000\n",
      "Loss: 28.589663, Train accuracy: 0.562000, val accuracy: 0.535000\n",
      "Loss: 33.786232, Train accuracy: 0.567444, val accuracy: 0.561000\n",
      "Loss: 44.761444, Train accuracy: 0.572667, val accuracy: 0.548000\n",
      "Loss: 30.653142, Train accuracy: 0.602444, val accuracy: 0.602000\n",
      "Loss: 29.251393, Train accuracy: 0.573556, val accuracy: 0.556000\n",
      "Loss: 34.133091, Train accuracy: 0.619000, val accuracy: 0.605000\n",
      "Loss: 25.392463, Train accuracy: 0.573556, val accuracy: 0.541000\n",
      "Loss: 41.844217, Train accuracy: 0.617111, val accuracy: 0.601000\n",
      "Loss: 29.558674, Train accuracy: 0.585889, val accuracy: 0.560000\n",
      "Loss: 35.127121, Train accuracy: 0.602667, val accuracy: 0.566000\n"
     ]
    }
   ],
   "source": [
    "model = TwoLayerNet(n_input = train_X.shape[1], n_output = 10, hidden_layer_size = 100, reg = 1e-1)\n",
    "dataset = Dataset(train_X, train_y, val_X, val_y)\n",
    "trainer = Trainer(model, dataset, SGD(), learning_rate = 1e-2)\n",
    "\n",
    "# TODO Implement missing pieces in Trainer.fit function\n",
    "# You should expect loss to go down every epoch, even if it's slow\n",
    "loss_history, train_history, val_history = trainer.fit()"
   ]
  },
  {
   "cell_type": "code",
   "execution_count": 236,
   "metadata": {},
   "outputs": [
    {
     "data": {
      "text/plain": [
       "[<matplotlib.lines.Line2D at 0x11b486ac0>]"
      ]
     },
     "execution_count": 236,
     "metadata": {},
     "output_type": "execute_result"
    },
    {
     "data": {
      "image/png": "[encoded data removed]",
      "text/plain": [
       "<Figure size 432x288 with 1 Axes>"
      ]
     },
     "metadata": {
      "needs_background": "light"
     },
     "output_type": "display_data"
    }
   ],
   "source": [
    "plt.plot(train_history)\n",
    "plt.plot(val_history)"
   ]
  },
  {
   "cell_type": "markdown",
   "metadata": {},
   "source": [
    "# Улучшаем процесс тренировки\n",
    "\n",
    "Мы реализуем несколько ключевых оптимизаций, необходимых для тренировки современных нейросетей."
   ]
  },
  {
   "cell_type": "code",
   "execution_count": 239,
   "metadata": {},
   "outputs": [],
   "source": [
    "class SGD:\n",
    "    \"\"\"\n",
    "    Implements vanilla SGD update\n",
    "    \"\"\"\n",
    "    def update(self, w, d_w, learning_rate):\n",
    "        \"\"\"\n",
    "        Performs SGD update\n",
    "\n",
    "        Arguments:\n",
    "        w, np array - weights\n",
    "        d_w, np array, same shape as w - gradient\n",
    "        learning_rate, float - learning rate\n",
    "\n",
    "        Returns:\n",
    "        updated_weights, np array same shape as w\n",
    "        \"\"\"\n",
    "        return w - d_w * learning_rate\n",
    "\n",
    "\n",
    "class MomentumSGD:\n",
    "    \"\"\"\n",
    "    Implements Momentum SGD update\n",
    "    \"\"\"\n",
    "    def __init__(self, momentum=0.9):\n",
    "        self.momentum = 0.9\n",
    "        self.velocity = 0.\n",
    "    \n",
    "    def update(self, w, d_w, learning_rate):\n",
    "        \"\"\"\n",
    "        Performs Momentum SGD update\n",
    "\n",
    "        Arguments:\n",
    "        w, np array - weights\n",
    "        d_w, np array, same shape as w - gradient\n",
    "        learning_rate, float - learning rate\n",
    "\n",
    "        Returns:\n",
    "        updated_weights, np array same shape as w\n",
    "        \"\"\"\n",
    "        # TODO Implement momentum update\n",
    "        # Hint: you'll need to introduce some variables to remember\n",
    "        # velocity from the previous updates\n",
    "        self.velocity = self.momentum * self.velocity - learning_rate * d_w\n",
    "        return w + self.velocity"
   ]
  },
  {
   "cell_type": "markdown",
   "metadata": {},
   "source": [
    "## Уменьшение скорости обучения (learning rate decay)\n",
    "\n",
    "Одна из необходимых оптимизаций во время тренировки нейронных сетей - постепенное уменьшение скорости обучения по мере тренировки.\n",
    "\n",
    "Один из стандартных методов - уменьшение скорости обучения (learning rate) каждые N эпох на коэффициент d (часто называемый decay). Значения N и d, как всегда, являются гиперпараметрами и должны подбираться на основе эффективности на проверочных данных (validation data). \n",
    "\n",
    "В нашем случае N будет равным 1."
   ]
  },
  {
   "cell_type": "code",
   "execution_count": 238,
   "metadata": {},
   "outputs": [
    {
     "name": "stdout",
     "output_type": "stream",
     "text": [
      "Loss: 43.857483, Train accuracy: 0.342111, val accuracy: 0.359000\n",
      "Loss: 34.687301, Train accuracy: 0.501556, val accuracy: 0.508000\n",
      "Loss: 38.078841, Train accuracy: 0.566667, val accuracy: 0.551000\n",
      "Loss: 33.205475, Train accuracy: 0.610889, val accuracy: 0.578000\n",
      "Loss: 32.146802, Train accuracy: 0.569000, val accuracy: 0.560000\n",
      "Loss: 35.615097, Train accuracy: 0.591778, val accuracy: 0.586000\n",
      "Loss: 32.021189, Train accuracy: 0.621556, val accuracy: 0.614000\n",
      "Loss: 36.386294, Train accuracy: 0.594111, val accuracy: 0.582000\n",
      "Loss: 29.512769, Train accuracy: 0.590667, val accuracy: 0.581000\n",
      "Loss: 33.818260, Train accuracy: 0.525889, val accuracy: 0.545000\n",
      "Loss: 29.252114, Train accuracy: 0.608667, val accuracy: 0.599000\n",
      "Loss: 26.938574, Train accuracy: 0.627778, val accuracy: 0.611000\n",
      "Loss: 40.321376, Train accuracy: 0.498778, val accuracy: 0.494000\n",
      "Loss: 31.402516, Train accuracy: 0.639444, val accuracy: 0.622000\n",
      "Loss: 41.973961, Train accuracy: 0.563667, val accuracy: 0.567000\n",
      "Loss: 39.165956, Train accuracy: 0.617667, val accuracy: 0.586000\n",
      "Loss: 30.753545, Train accuracy: 0.613111, val accuracy: 0.600000\n",
      "Loss: 33.553747, Train accuracy: 0.656000, val accuracy: 0.649000\n",
      "Loss: 33.456546, Train accuracy: 0.630667, val accuracy: 0.621000\n",
      "Loss: 31.873680, Train accuracy: 0.647000, val accuracy: 0.631000\n"
     ]
    }
   ],
   "source": [
    "# TODO Implement learning rate decay inside Trainer.fit method\n",
    "# Decay should happen once per epoch\n",
    "\n",
    "model = TwoLayerNet(n_input = train_X.shape[1], n_output = 10, hidden_layer_size = 100, reg = 1e-1)\n",
    "dataset = Dataset(train_X, train_y, val_X, val_y)\n",
    "trainer = Trainer(model, dataset, SGD(), learning_rate_decay=0.99)\n",
    "\n",
    "initial_learning_rate = trainer.learning_rate\n",
    "loss_history, train_history, val_history = trainer.fit()\n",
    "\n",
    "assert trainer.learning_rate < initial_learning_rate, \"Learning rate should've been reduced\"\n",
    "assert trainer.learning_rate > 0.5*initial_learning_rate, \"Learning rate shouldn'tve been reduced that much!\""
   ]
  },
  {
   "cell_type": "markdown",
   "metadata": {},
   "source": [
    "# Накопление импульса (Momentum SGD)\n",
    "\n",
    "Другой большой класс оптимизаций - использование более эффективных методов градиентного спуска. Мы реализуем один из них - накопление импульса (Momentum SGD).\n",
    "\n",
    "Этот метод хранит скорость движения, использует градиент для ее изменения на каждом шаге, и изменяет веса пропорционально значению скорости.\n",
    "(Физическая аналогия: Вместо скорости градиенты теперь будут задавать ускорение, но будет присутствовать сила трения.)\n",
    "\n",
    "```\n",
    "velocity = momentum * velocity - learning_rate * gradient \n",
    "w = w + velocity\n",
    "```\n",
    "\n",
    "`momentum` здесь коэффициент затухания, который тоже является гиперпараметром (к счастью, для него часто есть хорошее значение по умолчанию, типичный диапазон -- 0.8-0.99).\n",
    "\n",
    "Несколько полезных ссылок, где метод разбирается более подробно:  \n",
    "http://cs231n.github.io/neural-networks-3/#sgd  \n",
    "https://distill.pub/2017/momentum/"
   ]
  },
  {
   "cell_type": "code",
   "execution_count": 240,
   "metadata": {},
   "outputs": [
    {
     "name": "stdout",
     "output_type": "stream",
     "text": [
      "Loss: 46.923704, Train accuracy: 0.196667, val accuracy: 0.206000\n",
      "Loss: 43.937362, Train accuracy: 0.196667, val accuracy: 0.206000\n",
      "Loss: 42.467947, Train accuracy: 0.196667, val accuracy: 0.206000\n",
      "Loss: 44.817642, Train accuracy: 0.196667, val accuracy: 0.206000\n",
      "Loss: 43.703310, Train accuracy: 0.210889, val accuracy: 0.215000\n",
      "Loss: 44.685016, Train accuracy: 0.250778, val accuracy: 0.253000\n",
      "Loss: 43.820789, Train accuracy: 0.266667, val accuracy: 0.266000\n",
      "Loss: 44.991675, Train accuracy: 0.281444, val accuracy: 0.282000\n",
      "Loss: 42.414458, Train accuracy: 0.318556, val accuracy: 0.315000\n",
      "Loss: 34.576347, Train accuracy: 0.373556, val accuracy: 0.366000\n",
      "Loss: 39.035691, Train accuracy: 0.406444, val accuracy: 0.389000\n",
      "Loss: 40.551145, Train accuracy: 0.442667, val accuracy: 0.431000\n",
      "Loss: 34.782584, Train accuracy: 0.453444, val accuracy: 0.445000\n",
      "Loss: 31.898344, Train accuracy: 0.501222, val accuracy: 0.494000\n",
      "Loss: 36.331255, Train accuracy: 0.524222, val accuracy: 0.517000\n",
      "Loss: 35.300216, Train accuracy: 0.537111, val accuracy: 0.538000\n",
      "Loss: 29.972048, Train accuracy: 0.567111, val accuracy: 0.558000\n",
      "Loss: 26.286023, Train accuracy: 0.587333, val accuracy: 0.577000\n",
      "Loss: 31.668681, Train accuracy: 0.601000, val accuracy: 0.591000\n",
      "Loss: 30.239006, Train accuracy: 0.615000, val accuracy: 0.605000\n"
     ]
    }
   ],
   "source": [
    "# TODO: Implement MomentumSGD.update function in optim.py\n",
    "\n",
    "model = TwoLayerNet(n_input = train_X.shape[1], n_output = 10, hidden_layer_size = 100, reg = 1e-1)\n",
    "dataset = Dataset(train_X, train_y, val_X, val_y)\n",
    "trainer = Trainer(model, dataset, MomentumSGD(), learning_rate=1e-4, learning_rate_decay=0.99)\n",
    "\n",
    "# You should see even better results than before!\n",
    "loss_history, train_history, val_history = trainer.fit()"
   ]
  },
  {
   "cell_type": "markdown",
   "metadata": {},
   "source": [
    "# Ну что, давайте уже тренировать сеть!"
   ]
  },
  {
   "cell_type": "markdown",
   "metadata": {},
   "source": [
    "## Последний тест - переобучимся (overfit) на маленьком наборе данных\n",
    "\n",
    "Хороший способ проверить, все ли реализовано корректно - переобучить сеть на маленьком наборе данных.  \n",
    "Наша модель обладает достаточной мощностью, чтобы приблизить маленький набор данных идеально, поэтому мы ожидаем, что на нем мы быстро дойдем до 100% точности на тренировочном наборе. \n",
    "\n",
    "Если этого не происходит, то где-то была допущена ошибка!"
   ]
  },
  {
   "cell_type": "code",
   "execution_count": 247,
   "metadata": {
    "scrolled": true
   },
   "outputs": [
    {
     "name": "stdout",
     "output_type": "stream",
     "text": [
      "Loss: 11.546386, Train accuracy: 0.200000, val accuracy: 0.066667\n",
      "Loss: 11.581033, Train accuracy: 0.200000, val accuracy: 0.066667\n",
      "Loss: 11.429926, Train accuracy: 0.200000, val accuracy: 0.066667\n",
      "Loss: 11.511984, Train accuracy: 0.266667, val accuracy: 0.066667\n",
      "Loss: 11.415357, Train accuracy: 0.333333, val accuracy: 0.066667\n",
      "Loss: 11.446580, Train accuracy: 0.333333, val accuracy: 0.066667\n",
      "Loss: 11.474375, Train accuracy: 0.266667, val accuracy: 0.000000\n",
      "Loss: 11.404837, Train accuracy: 0.266667, val accuracy: 0.000000\n",
      "Loss: 11.275919, Train accuracy: 0.266667, val accuracy: 0.000000\n",
      "Loss: 11.413152, Train accuracy: 0.266667, val accuracy: 0.000000\n",
      "Loss: 11.289136, Train accuracy: 0.266667, val accuracy: 0.000000\n",
      "Loss: 11.163226, Train accuracy: 0.266667, val accuracy: 0.000000\n",
      "Loss: 11.059848, Train accuracy: 0.266667, val accuracy: 0.000000\n",
      "Loss: 10.919125, Train accuracy: 0.266667, val accuracy: 0.000000\n",
      "Loss: 11.488796, Train accuracy: 0.333333, val accuracy: 0.000000\n",
      "Loss: 11.194001, Train accuracy: 0.400000, val accuracy: 0.000000\n",
      "Loss: 9.945681, Train accuracy: 0.400000, val accuracy: 0.000000\n",
      "Loss: 10.156606, Train accuracy: 0.400000, val accuracy: 0.000000\n",
      "Loss: 9.276394, Train accuracy: 0.400000, val accuracy: 0.000000\n",
      "Loss: 9.612686, Train accuracy: 0.400000, val accuracy: 0.000000\n",
      "Loss: 11.050142, Train accuracy: 0.400000, val accuracy: 0.000000\n",
      "Loss: 10.932851, Train accuracy: 0.400000, val accuracy: 0.000000\n",
      "Loss: 10.383229, Train accuracy: 0.400000, val accuracy: 0.000000\n",
      "Loss: 8.821379, Train accuracy: 0.400000, val accuracy: 0.000000\n",
      "Loss: 8.945607, Train accuracy: 0.333333, val accuracy: 0.000000\n",
      "Loss: 7.000279, Train accuracy: 0.333333, val accuracy: 0.000000\n",
      "Loss: 5.819066, Train accuracy: 0.333333, val accuracy: 0.000000\n",
      "Loss: 10.806855, Train accuracy: 0.400000, val accuracy: 0.000000\n",
      "Loss: 8.963890, Train accuracy: 0.400000, val accuracy: 0.000000\n",
      "Loss: 9.660694, Train accuracy: 0.400000, val accuracy: 0.000000\n",
      "Loss: 7.123172, Train accuracy: 0.400000, val accuracy: 0.000000\n",
      "Loss: 6.317762, Train accuracy: 0.400000, val accuracy: 0.000000\n",
      "Loss: 7.184682, Train accuracy: 0.466667, val accuracy: 0.000000\n",
      "Loss: 7.378051, Train accuracy: 0.466667, val accuracy: 0.000000\n",
      "Loss: 5.952008, Train accuracy: 0.466667, val accuracy: 0.000000\n",
      "Loss: 6.489093, Train accuracy: 0.466667, val accuracy: 0.000000\n",
      "Loss: 7.124247, Train accuracy: 0.466667, val accuracy: 0.000000\n",
      "Loss: 8.885426, Train accuracy: 0.466667, val accuracy: 0.066667\n",
      "Loss: 7.069804, Train accuracy: 0.466667, val accuracy: 0.066667\n",
      "Loss: 7.782066, Train accuracy: 0.466667, val accuracy: 0.000000\n",
      "Loss: 6.950242, Train accuracy: 0.466667, val accuracy: 0.000000\n",
      "Loss: 8.357208, Train accuracy: 0.466667, val accuracy: 0.066667\n",
      "Loss: 5.189183, Train accuracy: 0.466667, val accuracy: 0.066667\n",
      "Loss: 6.135334, Train accuracy: 0.466667, val accuracy: 0.066667\n",
      "Loss: 9.943939, Train accuracy: 0.600000, val accuracy: 0.066667\n",
      "Loss: 8.109797, Train accuracy: 0.533333, val accuracy: 0.066667\n",
      "Loss: 7.846574, Train accuracy: 0.600000, val accuracy: 0.066667\n",
      "Loss: 8.267228, Train accuracy: 0.600000, val accuracy: 0.066667\n",
      "Loss: 6.882223, Train accuracy: 0.600000, val accuracy: 0.066667\n",
      "Loss: 6.878556, Train accuracy: 0.600000, val accuracy: 0.066667\n",
      "Loss: 5.332568, Train accuracy: 0.600000, val accuracy: 0.066667\n",
      "Loss: 6.706334, Train accuracy: 0.600000, val accuracy: 0.066667\n",
      "Loss: 6.000634, Train accuracy: 0.600000, val accuracy: 0.066667\n",
      "Loss: 5.199900, Train accuracy: 0.666667, val accuracy: 0.066667\n",
      "Loss: 4.650702, Train accuracy: 0.666667, val accuracy: 0.066667\n",
      "Loss: 5.944929, Train accuracy: 0.666667, val accuracy: 0.066667\n",
      "Loss: 6.081200, Train accuracy: 0.666667, val accuracy: 0.066667\n",
      "Loss: 9.371872, Train accuracy: 0.666667, val accuracy: 0.066667\n",
      "Loss: 6.020767, Train accuracy: 0.733333, val accuracy: 0.066667\n",
      "Loss: 3.154264, Train accuracy: 0.733333, val accuracy: 0.066667\n",
      "Loss: 4.855387, Train accuracy: 0.733333, val accuracy: 0.066667\n",
      "Loss: 4.166722, Train accuracy: 0.733333, val accuracy: 0.066667\n",
      "Loss: 4.457757, Train accuracy: 0.733333, val accuracy: 0.066667\n",
      "Loss: 4.344434, Train accuracy: 0.800000, val accuracy: 0.066667\n",
      "Loss: 5.808850, Train accuracy: 0.733333, val accuracy: 0.066667\n",
      "Loss: 5.113697, Train accuracy: 0.800000, val accuracy: 0.066667\n",
      "Loss: 6.398903, Train accuracy: 0.800000, val accuracy: 0.066667\n",
      "Loss: 1.701540, Train accuracy: 0.800000, val accuracy: 0.066667\n",
      "Loss: 4.185113, Train accuracy: 0.800000, val accuracy: 0.066667\n",
      "Loss: 3.832367, Train accuracy: 0.800000, val accuracy: 0.066667\n",
      "Loss: 6.053347, Train accuracy: 0.800000, val accuracy: 0.066667\n",
      "Loss: 3.493296, Train accuracy: 0.800000, val accuracy: 0.066667\n",
      "Loss: 3.491011, Train accuracy: 0.800000, val accuracy: 0.066667\n",
      "Loss: 5.828433, Train accuracy: 0.800000, val accuracy: 0.066667\n",
      "Loss: 5.888578, Train accuracy: 0.800000, val accuracy: 0.066667\n",
      "Loss: 4.013066, Train accuracy: 0.800000, val accuracy: 0.066667\n",
      "Loss: 7.080766, Train accuracy: 0.800000, val accuracy: 0.066667\n",
      "Loss: 3.521817, Train accuracy: 0.800000, val accuracy: 0.066667\n",
      "Loss: 3.099657, Train accuracy: 0.800000, val accuracy: 0.066667\n",
      "Loss: 3.443710, Train accuracy: 0.800000, val accuracy: 0.066667\n",
      "Loss: 5.269093, Train accuracy: 0.866667, val accuracy: 0.066667\n",
      "Loss: 6.310402, Train accuracy: 0.866667, val accuracy: 0.066667\n",
      "Loss: 3.372326, Train accuracy: 0.866667, val accuracy: 0.066667\n",
      "Loss: 4.940563, Train accuracy: 0.933333, val accuracy: 0.066667\n",
      "Loss: 3.051675, Train accuracy: 0.933333, val accuracy: 0.066667\n",
      "Loss: 5.112391, Train accuracy: 0.933333, val accuracy: 0.066667\n",
      "Loss: 4.537833, Train accuracy: 0.933333, val accuracy: 0.066667\n",
      "Loss: 1.603922, Train accuracy: 0.933333, val accuracy: 0.066667\n",
      "Loss: 4.343166, Train accuracy: 0.933333, val accuracy: 0.066667\n",
      "Loss: 1.927750, Train accuracy: 0.933333, val accuracy: 0.066667\n",
      "Loss: 5.966032, Train accuracy: 0.933333, val accuracy: 0.066667\n",
      "Loss: 4.313088, Train accuracy: 0.933333, val accuracy: 0.066667\n",
      "Loss: 4.618923, Train accuracy: 0.933333, val accuracy: 0.066667\n",
      "Loss: 3.146070, Train accuracy: 0.933333, val accuracy: 0.066667\n",
      "Loss: 2.615297, Train accuracy: 0.933333, val accuracy: 0.066667\n",
      "Loss: 2.897802, Train accuracy: 0.933333, val accuracy: 0.066667\n",
      "Loss: 1.435058, Train accuracy: 0.933333, val accuracy: 0.066667\n",
      "Loss: 2.632833, Train accuracy: 0.933333, val accuracy: 0.066667\n",
      "Loss: 2.592247, Train accuracy: 0.933333, val accuracy: 0.066667\n",
      "Loss: 2.219687, Train accuracy: 0.933333, val accuracy: 0.066667\n",
      "Loss: 3.265855, Train accuracy: 1.000000, val accuracy: 0.066667\n",
      "Loss: 2.256887, Train accuracy: 1.000000, val accuracy: 0.066667\n",
      "Loss: 2.670558, Train accuracy: 1.000000, val accuracy: 0.066667\n",
      "Loss: 2.477280, Train accuracy: 1.000000, val accuracy: 0.066667\n",
      "Loss: 1.767098, Train accuracy: 1.000000, val accuracy: 0.066667\n",
      "Loss: 3.285422, Train accuracy: 1.000000, val accuracy: 0.066667\n",
      "Loss: 2.806269, Train accuracy: 1.000000, val accuracy: 0.066667\n",
      "Loss: 1.622755, Train accuracy: 1.000000, val accuracy: 0.000000\n",
      "Loss: 1.848110, Train accuracy: 1.000000, val accuracy: 0.000000\n",
      "Loss: 2.859039, Train accuracy: 1.000000, val accuracy: 0.000000\n",
      "Loss: 2.308857, Train accuracy: 1.000000, val accuracy: 0.000000\n",
      "Loss: 2.331780, Train accuracy: 1.000000, val accuracy: 0.000000\n",
      "Loss: 3.217880, Train accuracy: 1.000000, val accuracy: 0.000000\n",
      "Loss: 2.187555, Train accuracy: 1.000000, val accuracy: 0.000000\n",
      "Loss: 1.632112, Train accuracy: 1.000000, val accuracy: 0.000000\n",
      "Loss: 2.020426, Train accuracy: 1.000000, val accuracy: 0.000000\n",
      "Loss: 3.442054, Train accuracy: 1.000000, val accuracy: 0.000000\n",
      "Loss: 2.356959, Train accuracy: 1.000000, val accuracy: 0.000000\n",
      "Loss: 1.863989, Train accuracy: 1.000000, val accuracy: 0.000000\n",
      "Loss: 3.188357, Train accuracy: 1.000000, val accuracy: 0.000000\n",
      "Loss: 1.894843, Train accuracy: 1.000000, val accuracy: 0.000000\n",
      "Loss: 2.221881, Train accuracy: 1.000000, val accuracy: 0.000000\n",
      "Loss: 1.681309, Train accuracy: 1.000000, val accuracy: 0.000000\n",
      "Loss: 1.781782, Train accuracy: 1.000000, val accuracy: 0.000000\n",
      "Loss: 1.853542, Train accuracy: 1.000000, val accuracy: 0.000000\n",
      "Loss: 1.653903, Train accuracy: 1.000000, val accuracy: 0.000000\n",
      "Loss: 1.714078, Train accuracy: 1.000000, val accuracy: 0.000000\n",
      "Loss: 2.927856, Train accuracy: 1.000000, val accuracy: 0.000000\n",
      "Loss: 2.572225, Train accuracy: 1.000000, val accuracy: 0.000000\n",
      "Loss: 2.140434, Train accuracy: 1.000000, val accuracy: 0.000000\n",
      "Loss: 1.858690, Train accuracy: 1.000000, val accuracy: 0.000000\n",
      "Loss: 1.658306, Train accuracy: 1.000000, val accuracy: 0.000000\n"
     ]
    },
    {
     "name": "stdout",
     "output_type": "stream",
     "text": [
      "Loss: 2.015812, Train accuracy: 1.000000, val accuracy: 0.000000\n",
      "Loss: 2.129875, Train accuracy: 1.000000, val accuracy: 0.000000\n",
      "Loss: 1.991063, Train accuracy: 1.000000, val accuracy: 0.000000\n",
      "Loss: 1.821753, Train accuracy: 1.000000, val accuracy: 0.000000\n",
      "Loss: 1.829974, Train accuracy: 1.000000, val accuracy: 0.000000\n",
      "Loss: 2.534522, Train accuracy: 1.000000, val accuracy: 0.000000\n",
      "Loss: 1.833015, Train accuracy: 1.000000, val accuracy: 0.000000\n",
      "Loss: 2.211252, Train accuracy: 1.000000, val accuracy: 0.000000\n",
      "Loss: 1.946496, Train accuracy: 1.000000, val accuracy: 0.000000\n",
      "Loss: 1.873620, Train accuracy: 1.000000, val accuracy: 0.000000\n",
      "Loss: 2.147194, Train accuracy: 1.000000, val accuracy: 0.000000\n",
      "Loss: 1.874260, Train accuracy: 1.000000, val accuracy: 0.000000\n",
      "Loss: 2.184137, Train accuracy: 1.000000, val accuracy: 0.000000\n",
      "Loss: 1.861341, Train accuracy: 1.000000, val accuracy: 0.000000\n",
      "Loss: 2.086669, Train accuracy: 1.000000, val accuracy: 0.000000\n",
      "Loss: 1.967441, Train accuracy: 1.000000, val accuracy: 0.000000\n",
      "Loss: 2.354552, Train accuracy: 1.000000, val accuracy: 0.000000\n",
      "Loss: 2.346518, Train accuracy: 1.000000, val accuracy: 0.000000\n"
     ]
    }
   ],
   "source": [
    "data_size = 15\n",
    "num_epochs = 150\n",
    "model = TwoLayerNet(n_input = train_X.shape[1], n_output = 10, hidden_layer_size = 100, reg = 1e-1)\n",
    "dataset = Dataset(train_X[:data_size], train_y[:data_size], val_X[:data_size], val_y[:data_size])\n",
    "trainer = Trainer(model, dataset, SGD(), learning_rate=1e-2, num_epochs=num_epochs, batch_size=5)\n",
    "\n",
    "# You should expect this to reach 1.0 training accuracy \n",
    "loss_history, train_history, val_history = trainer.fit()"
   ]
  },
  {
   "cell_type": "markdown",
   "metadata": {},
   "source": [
    "Теперь найдем гипепараметры, для которых этот процесс сходится быстрее.\n",
    "Если все реализовано корректно, то существуют параметры, при которых процесс сходится в **20** эпох или еще быстрее.\n",
    "Найдите их!"
   ]
  },
  {
   "cell_type": "code",
   "execution_count": 364,
   "metadata": {},
   "outputs": [
    {
     "name": "stdout",
     "output_type": "stream",
     "text": [
      "Loss: 34.536834, Train accuracy: 0.200000, val accuracy: 0.133333\n",
      "Loss: 33.700228, Train accuracy: 0.266667, val accuracy: 0.066667\n",
      "Loss: 32.619223, Train accuracy: 0.400000, val accuracy: 0.000000\n",
      "Loss: 28.333945, Train accuracy: 0.333333, val accuracy: 0.000000\n",
      "Loss: 23.539553, Train accuracy: 0.400000, val accuracy: 0.133333\n",
      "Loss: 24.309329, Train accuracy: 0.266667, val accuracy: 0.000000\n",
      "Loss: 30.342126, Train accuracy: 0.333333, val accuracy: 0.066667\n",
      "Loss: 34.640622, Train accuracy: 0.466667, val accuracy: 0.000000\n",
      "Loss: 74.867586, Train accuracy: 0.266667, val accuracy: 0.200000\n",
      "Loss: 223.574746, Train accuracy: 0.133333, val accuracy: 0.133333\n",
      "Loss: 216.439947, Train accuracy: 0.400000, val accuracy: 0.066667\n",
      "Loss: 111.986009, Train accuracy: 0.466667, val accuracy: 0.333333\n",
      "Loss: 190.227188, Train accuracy: 0.733333, val accuracy: 0.133333\n",
      "Loss: 43.060457, Train accuracy: 0.666667, val accuracy: 0.200000\n",
      "Loss: 17.460487, Train accuracy: 0.800000, val accuracy: 0.133333\n",
      "Loss: 23.940725, Train accuracy: 0.866667, val accuracy: 0.200000\n",
      "Loss: 9.476695, Train accuracy: 0.933333, val accuracy: 0.133333\n",
      "Loss: 10.370508, Train accuracy: 1.000000, val accuracy: 0.133333\n",
      "Loss: 3.145240, Train accuracy: 1.000000, val accuracy: 0.133333\n",
      "Loss: 2.626286, Train accuracy: 1.000000, val accuracy: 0.133333\n"
     ]
    }
   ],
   "source": [
    "# Now, tweak some hyper parameters and make it train to 1.0 accuracy in 20 epochs or less\n",
    "num_epochs = 20\n",
    "\n",
    "model = TwoLayerNet(n_input = train_X.shape[1], n_output = 10, hidden_layer_size = 300, reg = 1e-3)\n",
    "dataset = Dataset(train_X[:data_size], train_y[:data_size], val_X[:data_size], val_y[:data_size])\n",
    "# TODO: Change any hyperparamers or optimizators to reach training accuracy in 20 epochs\n",
    "trainer = Trainer(model, dataset, SGD(), learning_rate=0.1, num_epochs=num_epochs, batch_size=15,\n",
    "                 learning_rate_decay=0.92)\n",
    "\n",
    "loss_history, train_history, val_history = trainer.fit()"
   ]
  },
  {
   "cell_type": "markdown",
   "metadata": {},
   "source": [
    "# Итак, основное мероприятие!\n",
    "\n",
    "Натренируйте лучшую нейросеть! Можно добавлять и изменять параметры, менять количество нейронов в слоях сети и как угодно экспериментировать. \n",
    "\n",
    "Добейтесь точности лучше **60%** на validation set."
   ]
  },
  {
   "cell_type": "code",
   "execution_count": 372,
   "metadata": {
    "scrolled": true
   },
   "outputs": [
    {
     "name": "stdout",
     "output_type": "stream",
     "text": [
      "Loss: 88.687688, Train accuracy: 0.196667, val accuracy: 0.206000\n",
      "Loss: 88.061177, Train accuracy: 0.196667, val accuracy: 0.206000\n",
      "Loss: 89.472635, Train accuracy: 0.196667, val accuracy: 0.206000\n",
      "Loss: 91.814047, Train accuracy: 0.196667, val accuracy: 0.206000\n",
      "Loss: 82.001368, Train accuracy: 0.212778, val accuracy: 0.221000\n",
      "Loss: 81.864798, Train accuracy: 0.264667, val accuracy: 0.265000\n",
      "Loss: 77.033199, Train accuracy: 0.296000, val accuracy: 0.298000\n",
      "Loss: 77.601747, Train accuracy: 0.357778, val accuracy: 0.361000\n",
      "Loss: 52.032447, Train accuracy: 0.418444, val accuracy: 0.413000\n",
      "Loss: 61.035997, Train accuracy: 0.470000, val accuracy: 0.445000\n",
      "Loss: 68.823540, Train accuracy: 0.513111, val accuracy: 0.504000\n",
      "Loss: 58.323819, Train accuracy: 0.534444, val accuracy: 0.531000\n",
      "Loss: 50.007609, Train accuracy: 0.582111, val accuracy: 0.569000\n",
      "Loss: 52.249678, Train accuracy: 0.616222, val accuracy: 0.594000\n",
      "Loss: 43.325887, Train accuracy: 0.630444, val accuracy: 0.620000\n",
      "Loss: 54.550175, Train accuracy: 0.650222, val accuracy: 0.635000\n",
      "Loss: 55.470970, Train accuracy: 0.671556, val accuracy: 0.651000\n",
      "Loss: 50.795905, Train accuracy: 0.688111, val accuracy: 0.675000\n",
      "Loss: 35.699145, Train accuracy: 0.697556, val accuracy: 0.685000\n",
      "Loss: 47.516368, Train accuracy: 0.706444, val accuracy: 0.686000\n",
      "Loss: 54.043233, Train accuracy: 0.712222, val accuracy: 0.694000\n",
      "Loss: 33.492364, Train accuracy: 0.724778, val accuracy: 0.694000\n",
      "Loss: 38.229055, Train accuracy: 0.728778, val accuracy: 0.693000\n",
      "Loss: 38.090356, Train accuracy: 0.732556, val accuracy: 0.691000\n",
      "Loss: 30.785178, Train accuracy: 0.752333, val accuracy: 0.704000\n",
      "Loss: 41.522750, Train accuracy: 0.756111, val accuracy: 0.703000\n",
      "Loss: 26.065839, Train accuracy: 0.757333, val accuracy: 0.711000\n",
      "Loss: 32.839888, Train accuracy: 0.765000, val accuracy: 0.730000\n",
      "Loss: 44.428210, Train accuracy: 0.775111, val accuracy: 0.725000\n",
      "Loss: 30.373134, Train accuracy: 0.778000, val accuracy: 0.732000\n",
      "Loss: 49.673744, Train accuracy: 0.771222, val accuracy: 0.713000\n",
      "Loss: 26.754440, Train accuracy: 0.786556, val accuracy: 0.730000\n",
      "Loss: 26.401176, Train accuracy: 0.791889, val accuracy: 0.727000\n",
      "Loss: 30.359920, Train accuracy: 0.796333, val accuracy: 0.736000\n",
      "Loss: 29.749918, Train accuracy: 0.790222, val accuracy: 0.714000\n",
      "Loss: 31.070865, Train accuracy: 0.795444, val accuracy: 0.732000\n",
      "Loss: 26.454481, Train accuracy: 0.815222, val accuracy: 0.746000\n",
      "Loss: 23.040348, Train accuracy: 0.820111, val accuracy: 0.739000\n",
      "Loss: 36.386589, Train accuracy: 0.819778, val accuracy: 0.742000\n",
      "Loss: 34.632369, Train accuracy: 0.825444, val accuracy: 0.746000\n",
      "Loss: 23.836139, Train accuracy: 0.829111, val accuracy: 0.746000\n",
      "Loss: 18.420625, Train accuracy: 0.835556, val accuracy: 0.753000\n",
      "Loss: 26.582170, Train accuracy: 0.845889, val accuracy: 0.757000\n",
      "Loss: 16.941181, Train accuracy: 0.842000, val accuracy: 0.757000\n",
      "Loss: 33.461084, Train accuracy: 0.847222, val accuracy: 0.746000\n",
      "Loss: 16.922073, Train accuracy: 0.844000, val accuracy: 0.739000\n",
      "Loss: 23.011142, Train accuracy: 0.852556, val accuracy: 0.752000\n",
      "Loss: 27.950852, Train accuracy: 0.859444, val accuracy: 0.750000\n",
      "Loss: 19.193020, Train accuracy: 0.857778, val accuracy: 0.758000\n",
      "Loss: 22.377502, Train accuracy: 0.868556, val accuracy: 0.760000\n",
      "best validation accuracy achieved: 0.760000\n"
     ]
    }
   ],
   "source": [
    "# Let's train the best one-hidden-layer network we can\n",
    "\n",
    "learning_rates = 1e-4\n",
    "reg_strength = 1e-2\n",
    "learning_rate_decay = 0.999\n",
    "hidden_layer_size = 128\n",
    "num_epochs = 50\n",
    "batch_size = 64\n",
    "momentum = 0.9\n",
    "\n",
    "best_classifier = None\n",
    "best_val_accuracy = None\n",
    "\n",
    "best_loss_history = []\n",
    "best_train_history = []\n",
    "best_val_history = []\n",
    "\n",
    "# TODO find the best hyperparameters to train the network\n",
    "# Don't hesitate to add new values to the arrays above, perform experiments, use any tricks you want\n",
    "# You should expect to get to at least 40% of valudation accuracy\n",
    "# Save loss/train/history of the best classifier to the variables above\n",
    "\n",
    "model = TwoLayerNet(n_input = train_X.shape[1], n_output = 10, \n",
    "                    hidden_layer_size = hidden_layer_size, reg = reg_strength)\n",
    "dataset = Dataset(train_X, train_y, val_X, val_y)\n",
    "trainer = Trainer(model, dataset, MomentumSGD(momentum), learning_rate=learning_rates, \n",
    "                  learning_rate_decay=learning_rate_decay, num_epochs=num_epochs, batch_size=batch_size)\n",
    "\n",
    "# You should see even better results than before!\n",
    "loss_history, train_history, val_history = trainer.fit()\n",
    "val_multiclass_accuracy = multiclass_accuracy(model.predict(val_X), val_y)\n",
    "\n",
    "if val_multiclass_accuracy > 0.6:\n",
    "    best_val_accuracy = val_multiclass_accuracy\n",
    "    best_classifier = model\n",
    "    best_loss_history = loss_history\n",
    "    best_train_history = train_history\n",
    "    best_val_history = val_history\n",
    "    \n",
    "print('best validation accuracy achieved: %f' % best_val_accuracy)"
   ]
  },
  {
   "cell_type": "code",
   "execution_count": 373,
   "metadata": {},
   "outputs": [
    {
     "data": {
      "text/plain": [
       "[<matplotlib.lines.Line2D at 0x11afbd220>]"
      ]
     },
     "execution_count": 373,
     "metadata": {},
     "output_type": "execute_result"
    },
    {
     "data": {
      "image/png": "[encoded data removed]",
      "text/plain": [
       "<Figure size 1080x504 with 2 Axes>"
      ]
     },
     "metadata": {
      "needs_background": "light"
     },
     "output_type": "display_data"
    }
   ],
   "source": [
    "plt.figure(figsize=(15, 7))\n",
    "plt.subplot(211)\n",
    "plt.title(\"Loss\")\n",
    "plt.plot(best_loss_history)\n",
    "plt.subplot(212)\n",
    "plt.title(\"Train/validation accuracy\")\n",
    "plt.plot(best_train_history)\n",
    "plt.plot(best_val_history)"
   ]
  },
  {
   "cell_type": "markdown",
   "metadata": {},
   "source": [
    "# Как обычно, посмотрим, как наша лучшая модель работает на тестовых данных"
   ]
  },
  {
   "cell_type": "code",
   "execution_count": 374,
   "metadata": {},
   "outputs": [
    {
     "name": "stdout",
     "output_type": "stream",
     "text": [
      "Neural net test set accuracy: 0.729000\n"
     ]
    }
   ],
   "source": [
    "test_pred = best_classifier.predict(test_X)\n",
    "test_accuracy = multiclass_accuracy(test_pred, test_y)\n",
    "print('Neural net test set accuracy: %f' % (test_accuracy, ))"
   ]
  }
 ],
 "metadata": {
  "kernelspec": {
   "display_name": "Python 3",
   "language": "python",
   "name": "python3"
  },
  "language_info": {
   "codemirror_mode": {
    "name": "ipython",
    "version": 3
   },
   "file_extension": ".py",
   "mimetype": "text/x-python",
   "name": "python",
   "nbconvert_exporter": "python",
   "pygments_lexer": "ipython3",
   "version": "3.8.7"
  }
 },
 "nbformat": 4,
 "nbformat_minor": 2
}
