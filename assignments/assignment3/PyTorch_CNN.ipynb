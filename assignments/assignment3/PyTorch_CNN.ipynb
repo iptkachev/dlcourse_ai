{
  "nbformat": 4,
  "nbformat_minor": 0,
  "metadata": {
    "accelerator": "GPU",
    "colab": {
      "name": "PyTorch_CNN.ipynb",
      "provenance": [],
      "collapsed_sections": []
    },
    "kernelspec": {
      "display_name": "Python 3",
      "language": "python",
      "name": "python3"
    },
    "language_info": {
      "codemirror_mode": {
        "name": "ipython",
        "version": 3
      },
      "file_extension": ".py",
      "mimetype": "text/x-python",
      "name": "python",
      "nbconvert_exporter": "python",
      "pygments_lexer": "ipython3",
      "version": "3.8.7"
    }
  },
  "cells": [
    {
      "cell_type": "markdown",
      "metadata": {
        "id": "gI7WOHLH_LU1"
      },
      "source": [
        "# Задание 3.2 - сверточные нейронные сети (CNNs) в PyTorch\n",
        "\n",
        "Это упражнение мы буде выполнять в Google Colab - https://colab.research.google.com/  \n",
        "Google Colab позволяет запускать код в notebook в облаке Google, где можно воспользоваться бесплатным GPU!  \n",
        "\n",
        "Авторы курса благодарят компанию Google и надеятся, что праздник не закончится.\n",
        "\n",
        "Туториал по настройке Google Colab:  \n",
        "https://medium.com/deep-learning-turkey/google-colab-free-gpu-tutorial-e113627b9f5d  \n",
        "(Keras инсталлировать не нужно, наш notebook сам установит PyTorch)\n"
      ]
    },
    {
      "cell_type": "code",
      "metadata": {
        "colab": {
          "base_uri": "https://localhost:8080/"
        },
        "id": "FcXBeP1O7cnY",
        "outputId": "147f28ee-c588-4e18-dc5a-a0776bd1a740"
      },
      "source": [
        "# Intstall PyTorch and download data\n",
        "!pip3 install torch torchvision\n",
        "\n",
        "!wget -c http://ufldl.stanford.edu/housenumbers/train_32x32.mat http://ufldl.stanford.edu/housenumbers/test_32x32.mat"
      ],
      "execution_count": 22,
      "outputs": [
        {
          "output_type": "stream",
          "text": [
            "Requirement already satisfied: torch in /usr/local/lib/python3.6/dist-packages (1.7.0+cu101)\n",
            "Requirement already satisfied: torchvision in /usr/local/lib/python3.6/dist-packages (0.8.1+cu101)\n",
            "Requirement already satisfied: future in /usr/local/lib/python3.6/dist-packages (from torch) (0.16.0)\n",
            "Requirement already satisfied: typing-extensions in /usr/local/lib/python3.6/dist-packages (from torch) (3.7.4.3)\n",
            "Requirement already satisfied: dataclasses in /usr/local/lib/python3.6/dist-packages (from torch) (0.8)\n",
            "Requirement already satisfied: numpy in /usr/local/lib/python3.6/dist-packages (from torch) (1.19.5)\n",
            "Requirement already satisfied: pillow>=4.1.1 in /usr/local/lib/python3.6/dist-packages (from torchvision) (7.0.0)\n",
            "--2021-02-07 20:26:07--  http://ufldl.stanford.edu/housenumbers/train_32x32.mat\n",
            "Resolving ufldl.stanford.edu (ufldl.stanford.edu)... 171.64.68.10\n",
            "Connecting to ufldl.stanford.edu (ufldl.stanford.edu)|171.64.68.10|:80... connected.\n",
            "HTTP request sent, awaiting response... 416 Requested Range Not Satisfiable\n",
            "\n",
            "    The file is already fully retrieved; nothing to do.\n",
            "\n",
            "--2021-02-07 20:26:07--  http://ufldl.stanford.edu/housenumbers/test_32x32.mat\n",
            "Reusing existing connection to ufldl.stanford.edu:80.\n",
            "HTTP request sent, awaiting response... 416 Requested Range Not Satisfiable\n",
            "\n",
            "    The file is already fully retrieved; nothing to do.\n",
            "\n"
          ],
          "name": "stdout"
        }
      ]
    },
    {
      "cell_type": "code",
      "metadata": {
        "id": "-afwWw-Q85vD"
      },
      "source": [
        "from collections import namedtuple\n",
        "from itertools import product\n",
        "\n",
        "import matplotlib.pyplot as plt\n",
        "import numpy as np\n",
        "import PIL\n",
        "import torch\n",
        "import torch.nn as nn\n",
        "import torch.optim as optim\n",
        "import torchvision.datasets as dset\n",
        "from torch.utils.data.sampler import SubsetRandomSampler\n",
        "\n",
        "from torchvision import transforms"
      ],
      "execution_count": 24,
      "outputs": []
    },
    {
      "cell_type": "code",
      "metadata": {
        "id": "NNU-OD9O9ltP"
      },
      "source": [
        "device = torch.device(\"cuda:0\") # Let's make sure GPU is available!"
      ],
      "execution_count": 25,
      "outputs": []
    },
    {
      "cell_type": "markdown",
      "metadata": {
        "id": "GbG3tc39_LU8"
      },
      "source": [
        "# Загружаем данные"
      ]
    },
    {
      "cell_type": "code",
      "metadata": {
        "id": "YAvkoRx-9FsP"
      },
      "source": [
        "# First, lets load the dataset\n",
        "data_train = dset.SVHN('./', \n",
        "                       transform=transforms.Compose([\n",
        "                           transforms.ToTensor(),\n",
        "                           transforms.Normalize(mean=[0.43,0.44,0.47],\n",
        "                                               std=[0.20,0.20,0.20])                           \n",
        "                       ])\n",
        "                      )\n",
        "data_test = dset.SVHN('./', split='test', transform=transforms.Compose([\n",
        "                           transforms.ToTensor(),\n",
        "                           transforms.Normalize(mean=[0.43,0.44,0.47],\n",
        "                                               std=[0.20,0.20,0.20])                           \n",
        "                       ]))"
      ],
      "execution_count": 26,
      "outputs": []
    },
    {
      "cell_type": "markdown",
      "metadata": {
        "id": "yLPS4uFj_LU9"
      },
      "source": [
        "Разделяем данные на training и validation.\n",
        "\n",
        "На всякий случай для подробностей - https://pytorch.org/tutorials/beginner/data_loading_tutorial.html"
      ]
    },
    {
      "cell_type": "code",
      "metadata": {
        "id": "YRnr8CPg7Hli"
      },
      "source": [
        "batch_size = 64\n",
        "\n",
        "data_size = data_train.data.shape[0]\n",
        "validation_split = .2\n",
        "split = int(np.floor(validation_split * data_size))\n",
        "indices = list(range(data_size))\n",
        "np.random.shuffle(indices)\n",
        "\n",
        "train_indices, val_indices = indices[split:], indices[:split]\n",
        "\n",
        "train_sampler = SubsetRandomSampler(train_indices)\n",
        "val_sampler = SubsetRandomSampler(val_indices)\n",
        "\n",
        "train_loader = torch.utils.data.DataLoader(data_train, batch_size=batch_size, \n",
        "                                           sampler=train_sampler)\n",
        "val_loader = torch.utils.data.DataLoader(data_train, batch_size=batch_size,\n",
        "                                         sampler=val_sampler)"
      ],
      "execution_count": 27,
      "outputs": []
    },
    {
      "cell_type": "code",
      "metadata": {
        "id": "LyYvt-T67PBG"
      },
      "source": [
        "# We'll use a special helper module to shape it into a flat tensor\n",
        "class Flattener(nn.Module):\n",
        "    def forward(self, x):\n",
        "        batch_size, *_ = x.shape\n",
        "        return x.view(batch_size, -1)"
      ],
      "execution_count": 28,
      "outputs": []
    },
    {
      "cell_type": "markdown",
      "metadata": {
        "id": "zp9Nwxvc_LU-"
      },
      "source": [
        "Создадим простейшую сеть с новыми слоями:  \n",
        "Convolutional - `nn.Conv2d`  \n",
        "MaxPool - `nn.MaxPool2d`"
      ]
    },
    {
      "cell_type": "code",
      "metadata": {
        "id": "w9SFVGZP7SQd"
      },
      "source": [
        "nn_model = nn.Sequential(\n",
        "            nn.Conv2d(3, 64, 3, padding=1),\n",
        "            nn.ReLU(inplace=True),\n",
        "            nn.MaxPool2d(4),\n",
        "            nn.Conv2d(64, 64, 3, padding=1),\n",
        "            nn.ReLU(inplace=True),\n",
        "            nn.MaxPool2d(4),    \n",
        "            Flattener(),\n",
        "            nn.Linear(64*2*2, 10),\n",
        "          )\n",
        "\n",
        "nn_model.type(torch.cuda.FloatTensor)\n",
        "nn_model.to(device)\n",
        "\n",
        "loss = nn.CrossEntropyLoss().type(torch.cuda.FloatTensor)\n",
        "optimizer = optim.SGD(nn_model.parameters(), lr=1e-1, weight_decay=1e-4)"
      ],
      "execution_count": 29,
      "outputs": []
    },
    {
      "cell_type": "markdown",
      "metadata": {
        "id": "61HUA4bE_LU_"
      },
      "source": [
        "Восстановите функцию `compute_accuracy` из прошлого задания.  \n",
        "Единственное отличие в новом - она должна передать данные на GPU прежде чем прогонять через модель. Сделайте это так же, как это делает функция `train_model`"
      ]
    },
    {
      "cell_type": "code",
      "metadata": {
        "id": "2ek3KVQK7hJ6"
      },
      "source": [
        "def train_model(model, train_loader, val_loader, loss, optimizer, num_epochs, lr_scheduler=None):    \n",
        "    loss_history = []\n",
        "    train_history = []\n",
        "    val_history = []\n",
        "    for epoch in range(num_epochs):\n",
        "        model.train() # Enter train mode\n",
        "        \n",
        "        loss_accum = 0\n",
        "        correct_samples = 0\n",
        "        total_samples = 0\n",
        "        for i_step, (x, y) in enumerate(train_loader):\n",
        "          \n",
        "            x_gpu = x.to(device)\n",
        "            y_gpu = y.to(device)\n",
        "            prediction = model(x_gpu)    \n",
        "            loss_value = loss(prediction, y_gpu)\n",
        "            optimizer.zero_grad()\n",
        "            loss_value.backward()\n",
        "            optimizer.step()\n",
        "            \n",
        "            _, indices = torch.max(prediction, 1)\n",
        "            correct_samples += torch.sum(indices == y_gpu)\n",
        "            total_samples += y.shape[0]\n",
        "            \n",
        "            loss_accum += loss_value\n",
        "\n",
        "        ave_loss = loss_accum / i_step\n",
        "        train_accuracy = float(correct_samples) / total_samples\n",
        "        val_accuracy = compute_accuracy(model, val_loader)\n",
        "        \n",
        "        loss_history.append(float(ave_loss))\n",
        "        train_history.append(train_accuracy)\n",
        "        val_history.append(val_accuracy)\n",
        "        \n",
        "        if lr_scheduler:\n",
        "            lr_scheduler.step()\n",
        "\n",
        "        print(\"Average loss: %f, Train accuracy: %f, Val accuracy: %f\" % (ave_loss, train_accuracy, val_accuracy))\n",
        "        \n",
        "    return loss_history, train_history, val_history\n",
        "        \n",
        "def compute_accuracy(model, loader):\n",
        "    \"\"\"\n",
        "    Computes accuracy on the dataset wrapped in a loader\n",
        "    \n",
        "    Returns: accuracy as a float value between 0 and 1\n",
        "    \"\"\"\n",
        "    model.eval() # Evaluation mode\n",
        "    # TODO: Copy implementation from previous assignment\n",
        "    # Don't forget to move the data to device before running it through the model!\n",
        "    \n",
        "    correct = 0\n",
        "    total = 0\n",
        "    for x, y in train_loader:\n",
        "        x_gpu = x.to(device)\n",
        "        y_gpu = y.to(device)\n",
        "        prediction = model(x_gpu)\n",
        "        indices = torch.argmax(prediction, dim=1)\n",
        "        correct += torch.sum(indices == y_gpu)\n",
        "        total += y.shape[0]\n",
        "        \n",
        "    accuracy = float(correct) / total\n",
        "    return accuracy"
      ],
      "execution_count": 30,
      "outputs": []
    },
    {
      "cell_type": "code",
      "metadata": {
        "id": "fAarpQB-ISm_",
        "outputId": "3a916e2e-a222-42d7-de0b-813aeaffcedb",
        "colab": {
          "base_uri": "https://localhost:8080/"
        }
      },
      "source": [
        "loss_history, train_history, val_history = train_model(nn_model, train_loader, val_loader, loss, optimizer, 5)"
      ],
      "execution_count": 31,
      "outputs": [
        {
          "output_type": "stream",
          "text": [
            "Average loss: 1.407572, Train accuracy: 0.529297, Val accuracy: 0.714824\n",
            "Average loss: 0.688792, Train accuracy: 0.793400, Val accuracy: 0.803740\n",
            "Average loss: 0.592186, Train accuracy: 0.825154, Val accuracy: 0.803843\n",
            "Average loss: 0.541579, Train accuracy: 0.839726, Val accuracy: 0.835529\n",
            "Average loss: 0.510401, Train accuracy: 0.848463, Val accuracy: 0.846688\n"
          ],
          "name": "stdout"
        }
      ]
    },
    {
      "cell_type": "markdown",
      "metadata": {
        "id": "6a-3a1ZFGEw_"
      },
      "source": [
        "# Аугментация данных (Data augmentation)\n",
        "\n",
        "В работе с изображениями одним из особенно важных методов является аугментация данных - то есть, генерация дополнительных данных для тренировки на основе изначальных.   \n",
        "Таким образом, мы получаем возможность \"увеличить\" набор данных для тренировки, что ведет к лучшей работе сети.\n",
        "Важно, чтобы аугментированные данные были похожи на те, которые могут встретиться в реальной жизни, иначе польза от аугментаций уменьшается и может ухудшить работу сети.\n",
        "\n",
        "С PyTorch идут несколько таких алгоритмов, называемых `transforms`. Более подробно про них можно прочитать тут -\n",
        "https://pytorch.org/tutorials/beginner/data_loading_tutorial.html#transforms\n",
        "\n",
        "Ниже мы используем следующие алгоритмы генерации:\n",
        "- ColorJitter - случайное изменение цвета\n",
        "- RandomHorizontalFlip - горизонтальное отражение с вероятностью 50%\n",
        "- RandomVerticalFlip - вертикальное отражение с вероятностью 50%\n",
        "- RandomRotation - случайный поворот"
      ]
    },
    {
      "cell_type": "code",
      "metadata": {
        "id": "jCWMUWmr7t5g"
      },
      "source": [
        "tfs = transforms.Compose([\n",
        "    transforms.ColorJitter(hue=.50, saturation=.50),\n",
        "    transforms.RandomHorizontalFlip(),\n",
        "    transforms.RandomVerticalFlip(),\n",
        "    transforms.RandomRotation(50, resample=PIL.Image.BILINEAR),\n",
        "    transforms.ToTensor(),\n",
        "    transforms.Normalize(mean=[0.43,0.44,0.47],\n",
        "                       std=[0.20,0.20,0.20])                           \n",
        "])\n",
        "\n",
        "# Create augmented train dataset\n",
        "data_aug_train = dset.SVHN('./', \n",
        "                       transform=tfs\n",
        "                      )\n",
        "\n",
        "train_aug_loader = torch.utils.data.DataLoader(data_aug_train, batch_size=batch_size, \n",
        "                                           sampler=train_sampler)"
      ],
      "execution_count": 32,
      "outputs": []
    },
    {
      "cell_type": "markdown",
      "metadata": {
        "id": "nyFZfp3f_LVA"
      },
      "source": [
        "Визуализируем результаты агментации (вообще, смотреть на сгенерированные данные всегда очень полезно)."
      ]
    },
    {
      "cell_type": "code",
      "metadata": {
        "colab": {
          "base_uri": "https://localhost:8080/",
          "height": 171
        },
        "id": "YlJJEro1KZ45",
        "outputId": "f0f94502-8dc2-4a88-f05a-2b20fe5d2f3e"
      },
      "source": [
        "# TODO: Visualize some augmented images!\n",
        "# hint: you can create new datasets and loaders to accomplish this\n",
        "\n",
        "# Based on the visualizations, should we keep all the augmentations?\n",
        "\n",
        "tfs = transforms.Compose([\n",
        "    transforms.ColorJitter(brightness=0.05, contrast=0.05, hue=0.05, saturation=0.05),\n",
        "    transforms.RandomRotation(25, resample=PIL.Image.BILINEAR),\n",
        "])\n",
        "\n",
        "data_aug_vis = dset.SVHN('./', \n",
        "                       transform=tfs\n",
        "                      )\n",
        "\n",
        "plt.figure(figsize=(30, 3))\n",
        "for i, (x, y) in enumerate(data_aug_vis):\n",
        "    if i == 10:\n",
        "        break\n",
        "    plt.subplot(1, 10, i+1)\n",
        "    plt.grid(False)\n",
        "    plt.imshow(x)\n",
        "    plt.axis('off')"
      ],
      "execution_count": 33,
      "outputs": [
        {
          "output_type": "display_data",
          "data": {
            "image/png": "[encoded data removed]",
            "text/plain": [
              "<Figure size 2160x216 with 10 Axes>"
            ]
          },
          "metadata": {
            "tags": [],
            "needs_background": "light"
          }
        }
      ]
    },
    {
      "cell_type": "markdown",
      "metadata": {
        "id": "o2LrmsYHoguB"
      },
      "source": [
        "Все ли агментации одинаково полезны на этом наборе данных? Могут ли быть среди них те, которые собьют модель с толку?\n",
        "\n",
        "Выберите из них только корректные"
      ]
    },
    {
      "cell_type": "code",
      "metadata": {
        "colab": {
          "base_uri": "https://localhost:8080/"
        },
        "id": "eeVnwEs4HZaQ",
        "outputId": "45c7a46e-d483-43a3-8f2b-4c285b7490ff"
      },
      "source": [
        "data_aug_train = dset.SVHN('./', \n",
        "                       transform=tfs\n",
        "                      )\n",
        "\n",
        "torch.utils.data.DataLoader(data_aug_train, batch_size=batch_size, \n",
        "                                           sampler=train_sampler)"
      ],
      "execution_count": 34,
      "outputs": [
        {
          "output_type": "execute_result",
          "data": {
            "text/plain": [
              "<torch.utils.data.dataloader.DataLoader at 0x7f4258d2dac8>"
            ]
          },
          "metadata": {
            "tags": []
          },
          "execution_count": 34
        }
      ]
    },
    {
      "cell_type": "code",
      "metadata": {
        "id": "evro9ksXGs9u"
      },
      "source": [
        "# TODO: \n",
        "tfs = transforms.Compose([\n",
        "    # TODO: Add good augmentations\n",
        "      transforms.ColorJitter(brightness=0.05, contrast=0.05, hue=0.05, saturation=0.05),\n",
        "    transforms.RandomRotation(5, resample=PIL.Image.BILINEAR),\n",
        "    transforms.ToTensor(),\n",
        "    transforms.Normalize(mean=[0.43,0.44,0.47], std=[0.20,0.20,0.20])                           \n",
        "])\n",
        "\n",
        "data_aug_train = dset.SVHN('./', transform=tfs)\n",
        "\n",
        "# TODO create new instances of loaders with the augmentations you chose\n",
        "train_aug_loader = torch.utils.data.DataLoader(data_aug_train, batch_size=batch_size, sampler=train_sampler)"
      ],
      "execution_count": 35,
      "outputs": []
    },
    {
      "cell_type": "code",
      "metadata": {
        "colab": {
          "base_uri": "https://localhost:8080/"
        },
        "id": "PeO6Zw0DHqPR",
        "outputId": "7e2ae941-f33e-4296-da46-c417d803427f"
      },
      "source": [
        "# Finally, let's train with augmentations!\n",
        "\n",
        "# Note we shouldn't use augmentations on validation\n",
        "\n",
        "loss_history, train_history, val_history = train_model(nn_model, train_aug_loader, val_loader, loss, optimizer, 5)"
      ],
      "execution_count": 36,
      "outputs": [
        {
          "output_type": "stream",
          "text": [
            "Average loss: 0.531815, Train accuracy: 0.841125, Val accuracy: 0.861601\n",
            "Average loss: 0.502394, Train accuracy: 0.849879, Val accuracy: 0.822902\n",
            "Average loss: 0.482771, Train accuracy: 0.858001, Val accuracy: 0.865321\n",
            "Average loss: 0.469052, Train accuracy: 0.860629, Val accuracy: 0.870030\n",
            "Average loss: 0.462096, Train accuracy: 0.861055, Val accuracy: 0.876071\n"
          ],
          "name": "stdout"
        }
      ]
    },
    {
      "cell_type": "markdown",
      "metadata": {
        "id": "r0bcioK6JBDK"
      },
      "source": [
        "# LeNet\n",
        "Попробуем имплементировать классическую архитектуру сверточной нейронной сети, предложенную Яном ЛеКуном в 1998 году. В свое время она достигла впечатляющих результатов на MNIST, посмотрим как она справится с SVHN?\n",
        "Она описана в статье [\"Gradient Based Learning Applied to Document Recognition\"](http://yann.lecun.com/exdb/publis/pdf/lecun-01a.pdf), попробуйте прочитать ключевые части и имплементировать предложенную архитетуру на PyTorch.\n",
        "\n",
        "Реализовывать слои и функцию ошибки LeNet, которых нет в PyTorch, **не нужно** - просто возьмите их размеры и переведите в уже известные нам Convolutional, Pooling и Fully Connected layers.\n",
        "\n",
        "Если в статье не очень понятно, можно просто погуглить LeNet и разобраться в деталях :)"
      ]
    },
    {
      "cell_type": "code",
      "metadata": {
        "id": "bAJw0FrCHBj9"
      },
      "source": [
        "def get_lenet():\n",
        "  return nn.Sequential(\n",
        "      nn.Conv2d(in_channels=3, out_channels=6, kernel_size=5),\n",
        "      nn.AvgPool2d(kernel_size=2, stride=2),\n",
        "      nn.Conv2d(in_channels=6, out_channels=16, kernel_size=5),\n",
        "      nn.AvgPool2d(kernel_size=2, stride=2),\n",
        "      nn.Conv2d(in_channels=16, out_channels=120, kernel_size=5),  # equal FC\n",
        "      Flattener(),\n",
        "      nn.Linear(120, 84),\n",
        "      nn.Linear(84, 10)\n",
        "  )"
      ],
      "execution_count": 37,
      "outputs": []
    },
    {
      "cell_type": "code",
      "metadata": {
        "id": "ieEzZUglJAUB"
      },
      "source": [
        "# TODO: Implement LeNet-like architecture for SVHN task\n",
        "lenet_model = get_lenet()\n",
        "lenet_model.type(torch.cuda.FloatTensor)\n",
        "lenet_model.to(device)\n",
        "\n",
        "loss = nn.CrossEntropyLoss().type(torch.cuda.FloatTensor)\n",
        "optimizer = optim.SGD(lenet_model.parameters(), lr=1e-1, weight_decay=1e-4)"
      ],
      "execution_count": 38,
      "outputs": []
    },
    {
      "cell_type": "code",
      "metadata": {
        "colab": {
          "base_uri": "https://localhost:8080/"
        },
        "id": "WMmaPfdeKk9H",
        "outputId": "f3d7120f-5b4e-46bc-9e00-ac9b66341bb3"
      },
      "source": [
        "# Let's train it!\n",
        "loss_history, train_history, val_history = train_model(lenet_model, train_aug_loader, val_loader, loss, optimizer, 10)"
      ],
      "execution_count": 39,
      "outputs": [
        {
          "output_type": "stream",
          "text": [
            "Average loss: 2.202497, Train accuracy: 0.226598, Val accuracy: 0.259615\n",
            "Average loss: 2.171863, Train accuracy: 0.255639, Val accuracy: 0.277122\n",
            "Average loss: 2.163796, Train accuracy: 0.268147, Val accuracy: 0.272481\n",
            "Average loss: 2.158454, Train accuracy: 0.271525, Val accuracy: 0.272344\n",
            "Average loss: 2.155837, Train accuracy: 0.273777, Val accuracy: 0.289919\n",
            "Average loss: 2.153603, Train accuracy: 0.275603, Val accuracy: 0.274358\n",
            "Average loss: 2.152167, Train accuracy: 0.276422, Val accuracy: 0.282821\n",
            "Average loss: 2.150340, Train accuracy: 0.277378, Val accuracy: 0.283998\n",
            "Average loss: 2.147557, Train accuracy: 0.279135, Val accuracy: 0.276900\n",
            "Average loss: 2.146823, Train accuracy: 0.278675, Val accuracy: 0.273180\n"
          ],
          "name": "stdout"
        }
      ]
    },
    {
      "cell_type": "markdown",
      "metadata": {
        "id": "u_O9qiYySvuj"
      },
      "source": [
        "# Подбор гиперпараметров"
      ]
    },
    {
      "cell_type": "code",
      "metadata": {
        "colab": {
          "base_uri": "https://localhost:8080/"
        },
        "id": "i6mhfdQ9K-N3",
        "outputId": "6d0ff922-9d5f-4719-e3e9-72b552341406"
      },
      "source": [
        "# The key hyperparameters we're going to tune are learning speed, annealing rate and regularization\n",
        "# We also encourage you to try different optimizers as well\n",
        "\n",
        "Hyperparams = namedtuple(\"Hyperparams\", ['learning_rate', 'anneal_epochs', 'reg'])\n",
        "RunResult = namedtuple(\"RunResult\", ['model', 'train_history', 'val_history', 'final_val_accuracy'])\n",
        "\n",
        "learning_rates = [1e0, 1e-1, 1e-2, 1e-3, 1e-4]\n",
        "anneal_coeff = 0.2\n",
        "anneal_epochs = [1, 5, 10, 15, 20, 50]\n",
        "regs = [1e-3, 1e-4, 1e-5, 1e-7]\n",
        "\n",
        "epoch_num = 10\n",
        "\n",
        "# Record all the runs here\n",
        "# Key should be Hyperparams and values should be RunResult\n",
        "run_record = {} \n",
        "\n",
        "# Use grid search or random search and record all runs in run_record dictionnary \n",
        "# Important: perform search in logarithmic space!\n",
        "for comb in product(learning_rates, anneal_epochs, regs):\n",
        "  print('\\n', comb, '\\n')\n",
        "  lr, anneal_epoch, reg = comb\n",
        "  \n",
        "  optimizer = optim.Adam(lenet_model.parameters(), lr=lr, weight_decay=reg)\n",
        "  lr_scheduler = optim.lr_scheduler.CosineAnnealingLR(optimizer, T_max=anneal_epoch)\n",
        "\n",
        "  lenet_model = get_lenet()\n",
        "  lenet_model.type(torch.cuda.FloatTensor)\n",
        "  lenet_model.to(device)\n",
        "\n",
        "  params = Hyperparams(lr, anneal_epoch, reg)\n",
        "  loss_history, train_history, val_history = train_model(lenet_model, train_aug_loader, val_loader, loss, optimizer, epoch_num, lr_scheduler)\n",
        "  results = RunResult(lenet_model, train_history, val_history, val_history[-1])\n",
        "  run_record[params] = results"
      ],
      "execution_count": null,
      "outputs": [
        {
          "output_type": "stream",
          "text": [
            "Average loss: 2.332771, Train accuracy: 0.083643, Val accuracy: 0.083370\n",
            "Average loss: 2.332785, Train accuracy: 0.083234, Val accuracy: 0.083370\n",
            "Average loss: 2.332779, Train accuracy: 0.083046, Val accuracy: 0.083370\n",
            "Average loss: 2.332805, Train accuracy: 0.082927, Val accuracy: 0.083370\n",
            "Average loss: 2.332809, Train accuracy: 0.083473, Val accuracy: 0.083370\n",
            "Average loss: 2.332810, Train accuracy: 0.082824, Val accuracy: 0.083370\n",
            "Average loss: 2.332802, Train accuracy: 0.083524, Val accuracy: 0.083370\n",
            "Average loss: 2.332797, Train accuracy: 0.082739, Val accuracy: 0.083370\n",
            "Average loss: 2.332827, Train accuracy: 0.082756, Val accuracy: 0.083370\n",
            "Average loss: 2.332823, Train accuracy: 0.083729, Val accuracy: 0.083370\n",
            "Average loss: 2.324975, Train accuracy: 0.114067, Val accuracy: 0.113214\n",
            "Average loss: 2.324996, Train accuracy: 0.113077, Val accuracy: 0.113214\n",
            "Average loss: 2.325018, Train accuracy: 0.113009, Val accuracy: 0.113214\n",
            "Average loss: 2.324999, Train accuracy: 0.113572, Val accuracy: 0.113214\n",
            "Average loss: 2.324977, Train accuracy: 0.114818, Val accuracy: 0.113214\n",
            "Average loss: 2.325017, Train accuracy: 0.113555, Val accuracy: 0.113214\n",
            "Average loss: 2.324994, Train accuracy: 0.114135, Val accuracy: 0.113214\n",
            "Average loss: 2.324980, Train accuracy: 0.113589, Val accuracy: 0.113214\n",
            "Average loss: 2.325017, Train accuracy: 0.113777, Val accuracy: 0.113214\n",
            "Average loss: 2.324965, Train accuracy: 0.113674, Val accuracy: 0.113214\n",
            "Average loss: 2.313276, Train accuracy: 0.069225, Val accuracy: 0.069174\n",
            "Average loss: 2.313288, Train accuracy: 0.069140, Val accuracy: 0.069174\n",
            "Average loss: 2.313282, Train accuracy: 0.069088, Val accuracy: 0.069174\n",
            "Average loss: 2.313269, Train accuracy: 0.069276, Val accuracy: 0.069174\n",
            "Average loss: 2.313241, Train accuracy: 0.069293, Val accuracy: 0.069174\n",
            "Average loss: 2.313282, Train accuracy: 0.069003, Val accuracy: 0.069174\n",
            "Average loss: 2.313294, Train accuracy: 0.069054, Val accuracy: 0.069174\n",
            "Average loss: 2.313305, Train accuracy: 0.069037, Val accuracy: 0.069174\n",
            "Average loss: 2.313272, Train accuracy: 0.069140, Val accuracy: 0.069174\n",
            "Average loss: 2.313286, Train accuracy: 0.069396, Val accuracy: 0.069174\n",
            "Average loss: 2.329753, Train accuracy: 0.111320, Val accuracy: 0.113811\n",
            "Average loss: 2.329743, Train accuracy: 0.112019, Val accuracy: 0.113811\n",
            "Average loss: 2.329699, Train accuracy: 0.112105, Val accuracy: 0.113811\n",
            "Average loss: 2.329754, Train accuracy: 0.111917, Val accuracy: 0.113811\n",
            "Average loss: 2.329790, Train accuracy: 0.111661, Val accuracy: 0.113811\n",
            "Average loss: 2.329716, Train accuracy: 0.112429, Val accuracy: 0.113811\n",
            "Average loss: 2.329758, Train accuracy: 0.111814, Val accuracy: 0.113811\n",
            "Average loss: 2.329737, Train accuracy: 0.112070, Val accuracy: 0.113811\n",
            "Average loss: 2.329706, Train accuracy: 0.112326, Val accuracy: 0.113811\n",
            "Average loss: 2.329760, Train accuracy: 0.111951, Val accuracy: 0.113811\n",
            "Average loss: 2.325740, Train accuracy: 0.068798, Val accuracy: 0.068986\n",
            "Average loss: 2.325795, Train accuracy: 0.069532, Val accuracy: 0.068986\n",
            "Average loss: 2.325832, Train accuracy: 0.069686, Val accuracy: 0.068986\n",
            "Average loss: 2.325760, Train accuracy: 0.069242, Val accuracy: 0.068986\n",
            "Average loss: 2.325755, Train accuracy: 0.069225, Val accuracy: 0.068986\n",
            "Average loss: 2.325804, Train accuracy: 0.069123, Val accuracy: 0.068986\n",
            "Average loss: 2.325820, Train accuracy: 0.069157, Val accuracy: 0.068986\n",
            "Average loss: 2.325778, Train accuracy: 0.069037, Val accuracy: 0.068986\n",
            "Average loss: 2.325798, Train accuracy: 0.068986, Val accuracy: 0.068986\n"
          ],
          "name": "stdout"
        }
      ]
    },
    {
      "cell_type": "code",
      "metadata": {
        "id": "Y6xExdw8JB1l"
      },
      "source": [
        "best_val_accuracy = None\n",
        "best_hyperparams = None\n",
        "best_run = None\n",
        "\n",
        "for hyperparams, run_result in run_record.items():\n",
        "    if best_val_accuracy is None or best_val_accuracy < run_result.final_val_accuracy:\n",
        "        best_val_accuracy = run_result.final_val_accuracy\n",
        "        best_hyperparams = hyperparams\n",
        "        best_run = run_result\n",
        "        \n",
        "print(\"Best validation accuracy: %4.2f, best hyperparams: %s\" % (best_val_accuracy, best_hyperparams))\n",
        "        "
      ],
      "execution_count": null,
      "outputs": []
    },
    {
      "cell_type": "markdown",
      "metadata": {
        "id": "LOmsR0uVgtgf"
      },
      "source": [
        "# Свободное упражнение - догоним и перегоним LeNet!\n",
        "\n",
        "Попробуйте найти архитектуру и настройки тренировки, чтобы выступить лучше наших бейзлайнов.\n",
        "\n",
        "Что можно и нужно попробовать:\n",
        "- BatchNormalization (для convolution layers он в PyTorch называется [batchnorm2d](https://pytorch.org/docs/stable/nn.html#batchnorm2d))\n",
        "- Изменить количество слоев и их толщину\n",
        "- Изменять количество эпох тренировки\n",
        "- Попробовать и другие агментации"
      ]
    },
    {
      "cell_type": "code",
      "metadata": {
        "id": "tSVhD747icoc"
      },
      "source": [
        "best_model = None"
      ],
      "execution_count": null,
      "outputs": []
    },
    {
      "cell_type": "markdown",
      "metadata": {
        "id": "ubeKgBcnhx7N"
      },
      "source": [
        "# Финальный аккорд - проверим лучшую модель на test set\n",
        "\n",
        "В качестве разнообразия - напишите код для прогона модели на test set вы.\n",
        "\n",
        "В результате вы должны натренировать модель, которая покажет более **90%** точности на test set.  \n",
        "Как водится, лучший результат в группе получит дополнительные баллы!"
      ]
    },
    {
      "cell_type": "code",
      "metadata": {
        "id": "EIqM1kdeh-hd"
      },
      "source": [
        "# TODO Write the code to compute accuracy on test set\n",
        "final_test_accuracy = 0.0\n",
        "print(\"Final test accuracy - \", final_test_accuracy)"
      ],
      "execution_count": null,
      "outputs": []
    },
    {
      "cell_type": "code",
      "metadata": {
        "id": "BfH6qip6kVX_"
      },
      "source": [
        ""
      ],
      "execution_count": null,
      "outputs": []
    }
  ]
}